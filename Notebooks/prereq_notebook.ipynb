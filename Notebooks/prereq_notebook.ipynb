{
 "cells": [
  {
   "cell_type": "code",
   "execution_count": 1,
   "id": "8f0789e4",
   "metadata": {},
   "outputs": [
    {
     "data": {
      "text/plain": [
       "6"
      ]
     },
     "execution_count": 1,
     "metadata": {},
     "output_type": "execute_result"
    }
   ],
   "source": [
    "3+3"
   ]
  },
  {
   "cell_type": "markdown",
   "id": "429f2091",
   "metadata": {},
   "source": [
    "## About Me\n",
    "\n",
    "Hey, I’m Kalib. I’m learning to code because I want to understand how data, logic, and creativity can actually solve problems not only in theory, but in real life as well. \n",
    "\n",
    "I’m completing this program while unhoused, which has taught me a lot about persistence and focus. It’s shown me how much work it takes to build doors instead of just waiting for them to open. \n",
    "\n",
    "By the time I finish, I want a portfolio that shows I can turn data into insight that helps real people."
   ]
  },
  {
   "cell_type": "code",
   "execution_count": null,
   "id": "ddb0eed9",
   "metadata": {},
   "outputs": [],
   "source": []
  },
  {
   "cell_type": "markdown",
   "id": "809267e7",
   "metadata": {},
   "source": []
  }
 ],
 "metadata": {
  "kernelspec": {
   "display_name": "Python 3",
   "language": "python",
   "name": "python3"
  },
  "language_info": {
   "codemirror_mode": {
    "name": "ipython",
    "version": 3
   },
   "file_extension": ".py",
   "mimetype": "text/x-python",
   "name": "python",
   "nbconvert_exporter": "python",
   "pygments_lexer": "ipython3",
   "version": "3.11.13"
  }
 },
 "nbformat": 4,
 "nbformat_minor": 5
}
